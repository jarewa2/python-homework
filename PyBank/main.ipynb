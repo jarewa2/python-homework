{
 "cells": [
  {
   "cell_type": "code",
   "execution_count": 268,
   "id": "e70b511e-8e86-4e59-af96-11c32747d7e9",
   "metadata": {},
   "outputs": [],
   "source": [
    "# import pandas\n",
    "import pandas as pd\n",
    "from pathlib import Path\n",
    "%matplotlib inline"
   ]
  },
  {
   "cell_type": "code",
   "execution_count": 269,
   "id": "a374ccea-b4e5-4ae3-aa5c-deac3285c837",
   "metadata": {},
   "outputs": [
    {
     "data": {
      "text/html": [
       "<div>\n",
       "<style scoped>\n",
       "    .dataframe tbody tr th:only-of-type {\n",
       "        vertical-align: middle;\n",
       "    }\n",
       "\n",
       "    .dataframe tbody tr th {\n",
       "        vertical-align: top;\n",
       "    }\n",
       "\n",
       "    .dataframe thead th {\n",
       "        text-align: right;\n",
       "    }\n",
       "</style>\n",
       "<table border=\"1\" class=\"dataframe\">\n",
       "  <thead>\n",
       "    <tr style=\"text-align: right;\">\n",
       "      <th></th>\n",
       "      <th>Date</th>\n",
       "      <th>Profit/Losses</th>\n",
       "    </tr>\n",
       "  </thead>\n",
       "  <tbody>\n",
       "    <tr>\n",
       "      <th>0</th>\n",
       "      <td>Jan-2010</td>\n",
       "      <td>867884</td>\n",
       "    </tr>\n",
       "    <tr>\n",
       "      <th>1</th>\n",
       "      <td>Feb-2010</td>\n",
       "      <td>984655</td>\n",
       "    </tr>\n",
       "    <tr>\n",
       "      <th>2</th>\n",
       "      <td>Mar-2010</td>\n",
       "      <td>322013</td>\n",
       "    </tr>\n",
       "    <tr>\n",
       "      <th>3</th>\n",
       "      <td>Apr-2010</td>\n",
       "      <td>-69417</td>\n",
       "    </tr>\n",
       "    <tr>\n",
       "      <th>4</th>\n",
       "      <td>May-2010</td>\n",
       "      <td>310503</td>\n",
       "    </tr>\n",
       "  </tbody>\n",
       "</table>\n",
       "</div>"
      ],
      "text/plain": [
       "       Date  Profit/Losses\n",
       "0  Jan-2010         867884\n",
       "1  Feb-2010         984655\n",
       "2  Mar-2010         322013\n",
       "3  Apr-2010         -69417\n",
       "4  May-2010         310503"
      ]
     },
     "execution_count": 269,
     "metadata": {},
     "output_type": "execute_result"
    }
   ],
   "source": [
    "#  Set path and read csv file\n",
    "filepath = Path(\"budget_data.csv\")\n",
    "df = pd.read_csv(filepath)\n",
    "df.head()"
   ]
  },
  {
   "cell_type": "code",
   "execution_count": 270,
   "id": "d7c9079c-f970-43d8-b6ac-0ba12ce63809",
   "metadata": {},
   "outputs": [
    {
     "data": {
      "text/html": [
       "<div>\n",
       "<style scoped>\n",
       "    .dataframe tbody tr th:only-of-type {\n",
       "        vertical-align: middle;\n",
       "    }\n",
       "\n",
       "    .dataframe tbody tr th {\n",
       "        vertical-align: top;\n",
       "    }\n",
       "\n",
       "    .dataframe thead th {\n",
       "        text-align: right;\n",
       "    }\n",
       "</style>\n",
       "<table border=\"1\" class=\"dataframe\">\n",
       "  <thead>\n",
       "    <tr style=\"text-align: right;\">\n",
       "      <th></th>\n",
       "      <th>Profit/Losses</th>\n",
       "    </tr>\n",
       "    <tr>\n",
       "      <th>Date</th>\n",
       "      <th></th>\n",
       "    </tr>\n",
       "  </thead>\n",
       "  <tbody>\n",
       "    <tr>\n",
       "      <th>Jan-2010</th>\n",
       "      <td>867884</td>\n",
       "    </tr>\n",
       "    <tr>\n",
       "      <th>Feb-2010</th>\n",
       "      <td>984655</td>\n",
       "    </tr>\n",
       "    <tr>\n",
       "      <th>Mar-2010</th>\n",
       "      <td>322013</td>\n",
       "    </tr>\n",
       "    <tr>\n",
       "      <th>Apr-2010</th>\n",
       "      <td>-69417</td>\n",
       "    </tr>\n",
       "    <tr>\n",
       "      <th>May-2010</th>\n",
       "      <td>310503</td>\n",
       "    </tr>\n",
       "  </tbody>\n",
       "</table>\n",
       "</div>"
      ],
      "text/plain": [
       "          Profit/Losses\n",
       "Date                   \n",
       "Jan-2010         867884\n",
       "Feb-2010         984655\n",
       "Mar-2010         322013\n",
       "Apr-2010         -69417\n",
       "May-2010         310503"
      ]
     },
     "execution_count": 270,
     "metadata": {},
     "output_type": "execute_result"
    }
   ],
   "source": [
    "# set the \"Date\" column as the index of new data frame\n",
    "newfile = df.set_index(\"Date\")\n",
    "newfile.head()"
   ]
  },
  {
   "cell_type": "code",
   "execution_count": 271,
   "id": "b5d3f61d-1c6b-4b5d-bf41-489877f54df6",
   "metadata": {},
   "outputs": [
    {
     "name": "stdout",
     "output_type": "stream",
     "text": [
      "86\n"
     ]
    }
   ],
   "source": [
    "# Find the total number of months included in the dataset\n",
    "newfile.shape\n",
    "num_months = newfile.shape[0]\n",
    "print(num_months)"
   ]
  },
  {
   "cell_type": "code",
   "execution_count": 272,
   "id": "47a0274d-4e15-49eb-8f2c-5cbcbd6d7b5f",
   "metadata": {},
   "outputs": [
    {
     "name": "stdout",
     "output_type": "stream",
     "text": [
      "38382578\n"
     ]
    }
   ],
   "source": [
    "# Find the net total amount of Profit/Losses over the entire period\n",
    "newfile.sum()\n",
    "total = newfile.sum()[0]\n",
    "print(total)"
   ]
  },
  {
   "cell_type": "code",
   "execution_count": 305,
   "id": "2f5c35d0-91d6-4e0c-a9f6-907a4223cb47",
   "metadata": {},
   "outputs": [
    {
     "name": "stdout",
     "output_type": "stream",
     "text": [
      "-2315.12\n"
     ]
    }
   ],
   "source": [
    "# Find the average of the changes in Profit/Losses over the entire period\n",
    "change = (newfile - newfile.shift(1))\n",
    "avg_change = round(change.mean()[0], 2)\n",
    "print(avg_change)"
   ]
  },
  {
   "cell_type": "code",
   "execution_count": 307,
   "id": "cea097c5-3649-4d5c-aafa-4e8ebb874a71",
   "metadata": {},
   "outputs": [],
   "source": [
    "# new table with orhignal columns\n",
    "new_change[\"Profit/Losses\"] = (df[\"Profit/Losses\"] - df[\"Profit/Losses\"].shift(1)).copy()\n"
   ]
  },
  {
   "cell_type": "code",
   "execution_count": 361,
   "id": "3d30fb2b-d90f-4f9f-89c3-a240e5588759",
   "metadata": {},
   "outputs": [
    {
     "name": "stdout",
     "output_type": "stream",
     "text": [
      "1926159.0\n",
      "Feb-2012\n"
     ]
    }
   ],
   "source": [
    "# Find the greatest increase in profits (date and amount) over the entire period\n",
    "increase = change.max()[0]\n",
    "print(increase)\n",
    "increase_month = new_change.loc[new_change[\"Profit/Losses\"] == increase]\n",
    "month1 = increase_month.loc[25, \"Date\"]\n",
    "print(month1)"
   ]
  },
  {
   "cell_type": "code",
   "execution_count": 362,
   "id": "b941035e-b1a7-417a-aeb1-54be1192c0e5",
   "metadata": {},
   "outputs": [
    {
     "name": "stdout",
     "output_type": "stream",
     "text": [
      "-2196167.0\n",
      "Sep-2013\n"
     ]
    }
   ],
   "source": [
    "# Find the greatest increase in profits (date and amount) over the entire period\n",
    "decrease = change.min()[0]\n",
    "print(decrease)\n",
    "decrease_month = new_change.loc[new_change[\"Profit/Losses\"] == decrease]\n",
    "month2 = decrease_month.loc[44, \"Date\"]\n",
    "print(month2)"
   ]
  },
  {
   "cell_type": "code",
   "execution_count": 364,
   "id": "5161bbf7-56aa-4ecc-9bd1-54f924ab18a4",
   "metadata": {},
   "outputs": [
    {
     "name": "stdout",
     "output_type": "stream",
     "text": [
      "Financial Analysis \n",
      "------------------------------\n",
      "Total Months: 86\n",
      "Total: $38382578\n",
      "Average Change: $-2315.12\n",
      "Greatest Increase in Profits: Feb-2012 ($1926159.0)\n",
      "Greatest Decrease in Profits: Sep-2013 ($-2196167.0)\n"
     ]
    }
   ],
   "source": [
    "# Homework outputs:\n",
    "print(\"Financial Analysis \\n------------------------------\")\n",
    "print(f\"Total Months: {num_months}\")\n",
    "print(f\"Total: ${total}\")\n",
    "print(f\"Average Change: ${avg_change}\")\n",
    "print(f\"Greatest Increase in Profits: {month1} (${increase})\")\n",
    "print(f\"Greatest Decrease in Profits: {month2} (${decrease})\")"
   ]
  },
  {
   "cell_type": "code",
   "execution_count": null,
   "id": "6912e83d-65bc-4d4b-b0cb-358c6a4d07aa",
   "metadata": {},
   "outputs": [],
   "source": []
  }
 ],
 "metadata": {
  "kernelspec": {
   "display_name": "Python 3",
   "language": "python",
   "name": "python3"
  },
  "language_info": {
   "codemirror_mode": {
    "name": "ipython",
    "version": 3
   },
   "file_extension": ".py",
   "mimetype": "text/x-python",
   "name": "python",
   "nbconvert_exporter": "python",
   "pygments_lexer": "ipython3",
   "version": "3.8.8"
  }
 },
 "nbformat": 4,
 "nbformat_minor": 5
}
