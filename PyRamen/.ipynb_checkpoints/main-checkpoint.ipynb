{
 "cells": [
  {
   "cell_type": "code",
   "execution_count": 12,
   "id": "f5502428-4576-46f3-a658-ae0da363e54b",
   "metadata": {},
   "outputs": [],
   "source": [
    "# -*- coding: UTF-8 -*-\n",
    "\"\"\"PyRamen Homework Starter.\"\"\"\n",
    "\n",
    "# @TODO: Import libraries\n",
    "import csv\n",
    "import pandas as pd\n",
    "from pathlib import Path\n",
    "\n",
    "# @TODO: Set file paths for menu_data.csv and sales_data.csv\n",
    "menu_filepath = Path('menu_data.csv')\n",
    "sales_filepath = Path('sales_data.csv')\n",
    "\n",
    "## CHECK CSV FILE\n",
    "#df = pd.read_csv(menu_filepath)\n",
    "#df.head()"
   ]
  },
  {
   "cell_type": "code",
   "execution_count": 13,
   "id": "a8aea9cd-5f55-4d0c-90b6-3194ed2eb3d5",
   "metadata": {},
   "outputs": [],
   "source": [
    "# @TODO: Initialize list objects to hold our menu and sales data\n",
    "menu = []\n",
    "sales = []\n",
    "\n",
    "# @TODO: Read in the menu data into the menu list\n",
    "with open(menu_filepath, newline=\"\") as menufile:\n",
    "    menureader = csv.reader(menufile, delimiter=\",\")\n",
    "\n",
    "    # Iterate through the data and search for the number the user inputted. Remember to skip the header of the CSV.\n",
    "    menu_header = next(menureader)\n",
    "\n",
    "    for row in menureader:\n",
    "        menu.append(row)\n",
    "        \n",
    "#print(menu)"
   ]
  },
  {
   "cell_type": "code",
   "execution_count": 14,
   "id": "3935b925-934b-4765-8c82-3924383b7257",
   "metadata": {},
   "outputs": [
    {
     "name": "stderr",
     "output_type": "stream",
     "text": [
      "IOPub data rate exceeded.\n",
      "The Jupyter server will temporarily stop sending output\n",
      "to the client in order to avoid crashing it.\n",
      "To change this limit, set the config variable\n",
      "`--ServerApp.iopub_data_rate_limit`.\n",
      "\n",
      "Current values:\n",
      "ServerApp.iopub_data_rate_limit=1000000.0 (bytes/sec)\n",
      "ServerApp.rate_limit_window=3.0 (secs)\n",
      "\n"
     ]
    }
   ],
   "source": [
    "# @TODO: Read in the sales data into the sales list\n",
    "with open(sales_filepath, newline=\"\") as salesfile:\n",
    "    salesreader = csv.reader(salesfile, delimiter=\",\")\n",
    "\n",
    "    # Iterate through the data and search for the number the user inputted. Remember to skip the header of the CSV.\n",
    "    sales_header = next(salesreader)\n",
    "\n",
    "    for row in salesreader:\n",
    "        sales.append(row)\n",
    "        \n",
    "#print(sales)"
   ]
  }
 ],
 "metadata": {
  "kernelspec": {
   "display_name": "Python 3",
   "language": "python",
   "name": "python3"
  },
  "language_info": {
   "codemirror_mode": {
    "name": "ipython",
    "version": 3
   },
   "file_extension": ".py",
   "mimetype": "text/x-python",
   "name": "python",
   "nbconvert_exporter": "python",
   "pygments_lexer": "ipython3",
   "version": "3.8.8"
  }
 },
 "nbformat": 4,
 "nbformat_minor": 5
}
